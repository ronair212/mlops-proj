{
 "cells": [
  {
   "cell_type": "code",
   "execution_count": 29,
   "id": "62e78814-d202-4269-9561-1517477aeca7",
   "metadata": {},
   "outputs": [],
   "source": [
    "import pickle\n",
    "import re\n",
    "import pandas as pd\n",
    "\n",
    "file_name = \"xgb_reg.pkl\"\n",
    "\n",
    "xgb_model_loaded = pickle.load(open(file_name, \"rb\"))\n",
    "\n",
    "def get_model_prediction(distance_from_home:float=0,\n",
    "                        distance_from_last_transaction:float=0,\n",
    "                        ratio_to_median_purchase_price:float=0,\n",
    "                        repeat_retailer:int=0,\n",
    "                        used_chip:int=0,\n",
    "                        used_pin_number:int=0,\n",
    "                        online_order:int=0):\n",
    "\n",
    "    x_values_dictionary = {\n",
    "        'distance_from_home': [distance_from_home],\n",
    "        'distance_from_last_transaction': [distance_from_last_transaction],\n",
    "        'ratio_to_median_purchase_price': [ratio_to_median_purchase_price],\n",
    "        'repeat_retailer': [repeat_retailer],\n",
    "        'used_chip': [used_chip],\n",
    "        'used_pin_number': [used_pin_number],\n",
    "        'online_order': [online_order]\n",
    "    }\n",
    "    \n",
    "    sample_df = pd.DataFrame(x_values_dictionary)\n",
    "        \n",
    "    return bool(xgb_model_loaded.predict(sample_df)[0])\n"
   ]
  }
 ],
 "metadata": {
  "kernelspec": {
   "display_name": "Python 3 (ipykernel)",
   "language": "python",
   "name": "python3"
  },
  "language_info": {
   "codemirror_mode": {
    "name": "ipython",
    "version": 3
   },
   "file_extension": ".py",
   "mimetype": "text/x-python",
   "name": "python",
   "nbconvert_exporter": "python",
   "pygments_lexer": "ipython3",
   "version": "3.9.18"
  }
 },
 "nbformat": 4,
 "nbformat_minor": 5
}
