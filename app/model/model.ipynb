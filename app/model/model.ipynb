{
 "cells": [
  {
   "cell_type": "code",
   "execution_count": 1,
   "id": "62e78814-d202-4269-9561-1517477aeca7",
   "metadata": {},
   "outputs": [],
   "source": [
    "import pickle\n",
    "import re\n",
    "import os\n",
    "import pandas as pd\n",
    "import boto3\n",
    "\n",
    "AWS_ACCESS_KEY_ID = os.getenv('AWS_ACCESS_KEY_ID')\n",
    "AWS_SECRET_KEY = os.getenv('AWS_SECRET_KEY')\n",
    "AWS_S3_BUCKET_NAME = os.getenv('AWS_S3_BUCKET_NAME')\n",
    "AWS_S3_OBJECT_NAME = os.getenv('AWS_S3_OBJECT_NAME')\n",
    "\n",
    "\n",
    "print(AWS_ACCESS_KEY_ID)\n",
    "print(AWS_SECRET_KEY)\n",
    "print(AWS_S3_BUCKET_NAME)\n",
    "print(AWS_S3_OBJECT_NAME)\n",
    "\n",
    "\n",
    "s3_client = boto3.client(\n",
    "    's3',\n",
    "    aws_access_key_id=AWS_ACCESS_KEY_ID,\n",
    "    aws_secret_access_key=AWS_SECRET_KEY\n",
    ")\n",
    "\n",
    "__model_version__ = AWS_S3_OBJECT_NAME.split('/')[1]\n",
    "model_name = AWS_S3_OBJECT_NAME.split('/')[2]\n",
    "\n",
    "s3_client.download_file(AWS_S3_BUCKET_NAME, AWS_S3_OBJECT_NAME,model_name)\n",
    "\n",
    "loaded_model = pickle.load(open(model_name, \"rb\"))\n",
    "\n",
    "def get_model_prediction(distance_from_home:float=0,\n",
    "                        distance_from_last_transaction:float=0,\n",
    "                        ratio_to_median_purchase_price:float=0,\n",
    "                        repeat_retailer:int=0,\n",
    "                        used_chip:int=0,\n",
    "                        used_pin_number:int=0,\n",
    "                        online_order:int=0):\n",
    "\n",
    "    x_values_dictionary = {\n",
    "        'distance_from_home': [distance_from_home],\n",
    "        'distance_from_last_transaction': [distance_from_last_transaction],\n",
    "        'ratio_to_median_purchase_price': [ratio_to_median_purchase_price],\n",
    "        'repeat_retailer': [repeat_retailer],\n",
    "        'used_chip': [used_chip],\n",
    "        'used_pin_number': [used_pin_number],\n",
    "        'online_order': [online_order]\n",
    "    }\n",
    "    \n",
    "    sample_df = pd.DataFrame(x_values_dictionary)\n",
    "        \n",
    "    return bool(xgb_model_loaded.predict(sample_df)[0])\n"
   ]
  },
  {
   "cell_type": "code",
   "execution_count": 18,
   "id": "c8072c57",
   "metadata": {},
   "outputs": [],
   "source": [
    "__model_version__ = AWS_S3_OBJECT_NAME.split('/')[1]\n",
    "model_name = AWS_S3_OBJECT_NAME.split('/')[2]"
   ]
  }
 ],
 "metadata": {
  "kernelspec": {
   "display_name": "Python 3 (ipykernel)",
   "language": "python",
   "name": "python3"
  },
  "language_info": {
   "codemirror_mode": {
    "name": "ipython",
    "version": 3
   },
   "file_extension": ".py",
   "mimetype": "text/x-python",
   "name": "python",
   "nbconvert_exporter": "python",
   "pygments_lexer": "ipython3",
   "version": "3.12.3"
  }
 },
 "nbformat": 4,
 "nbformat_minor": 5
}
